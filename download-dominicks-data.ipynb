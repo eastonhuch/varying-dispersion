{
 "cells": [
  {
   "cell_type": "code",
   "execution_count": 1,
   "id": "aa7a560a-98b7-4c32-b99a-b34666da1a3b",
   "metadata": {},
   "outputs": [],
   "source": [
    "import os\n",
    "import requests\n",
    "import zipfile"
   ]
  },
  {
   "cell_type": "code",
   "execution_count": 2,
   "id": "87015c0e-356b-4536-b8d3-d0819f4b290b",
   "metadata": {},
   "outputs": [],
   "source": [
    "base_path = \"path/to/dominicks-data/\"\n",
    "names = [\n",
    "    \"cer\",\n",
    "    \"coo\",\n",
    "    \"cra\",\n",
    "]\n",
    "\n",
    "def unzip_category(url, name, path):\n",
    "    zip_response = requests.get(url)\n",
    "    zip_path = os.path.join(path, f\"{name}.zip\")\n",
    "    with open(zip_path, \"wb\") as f:\n",
    "        f.write(zip_response.content)\n",
    "    with zipfile.ZipFile(zip_path, 'r') as zip_ref:\n",
    "        zip_ref.extractall(path)\n",
    "\n",
    "for n in names:\n",
    "    n_path = os.path.join(base_path, n)\n",
    "    os.makedirs(n_path, exist_ok=True)\n",
    "    \n",
    "    zip_url = f\"https://www.chicagobooth.edu/research/kilts/research-data/-/media/enterprise/centers/kilts/datasets/dominicks-dataset/movement_csv-files/w{n}.zip\"\n",
    "    try:\n",
    "        unzip_category(zip_url, n, n_path)\n",
    "    except Exception as e:\n",
    "        print(\"Trying alternative URL\")\n",
    "        zip_url = f\"https://www.chicagobooth.edu/research/kilts/research-data/-/media/enterprise/centers/kilts/datasets/dominicks-dataset/movement_csv-files/w{n}_csv.zip\"\n",
    "        unzip_category(zip_url, n, n_path)\n",
    "        \n",
    "    csv_url = f\"https://www.chicagobooth.edu/research/kilts/research-data/-/media/enterprise/centers/kilts/datasets/dominicks-dataset/upc_csv-files/upc{n}.csv\"\n",
    "    csv_response = requests.get(csv_url)\n",
    "    csv_path = os.path.join(n_path, f\"upc{n}.csv\")\n",
    "    with open(csv_path, \"wt\") as f:\n",
    "        f.write(csv_response.text)"
   ]
  }
 ],
 "metadata": {
  "kernelspec": {
   "display_name": "Python 3 (ipykernel)",
   "language": "python",
   "name": "python3"
  },
  "language_info": {
   "codemirror_mode": {
    "name": "ipython",
    "version": 3
   },
   "file_extension": ".py",
   "mimetype": "text/x-python",
   "name": "python",
   "nbconvert_exporter": "python",
   "pygments_lexer": "ipython3",
   "version": "3.13.2"
  }
 },
 "nbformat": 4,
 "nbformat_minor": 5
}
